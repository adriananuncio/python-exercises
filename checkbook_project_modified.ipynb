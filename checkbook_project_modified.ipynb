{
 "cells": [
  {
   "cell_type": "markdown",
   "id": "7b74b704",
   "metadata": {},
   "source": [
    "### Welcome user"
   ]
  },
  {
   "cell_type": "markdown",
   "id": "9847dd56",
   "metadata": {},
   "source": [
    "### View current balance"
   ]
  },
  {
   "cell_type": "code",
   "execution_count": 3,
   "id": "bcb34769",
   "metadata": {},
   "outputs": [],
   "source": [
    "# Save File\n",
    "\n",
    "def save_file(x):\n",
    "    with open('my_file.txt', 'a') as f:\n",
    "        f.write()        \n",
    "\n",
    "# Current Balance        \n",
    "        \n",
    "def current_balance():\n",
    "    import os\n",
    "    if os.path.exists('my_file.txt'):\n",
    "        print('Congrats! Your checkbook exists!')\n",
    "        with open('my_file.txt', 'r') as f:\n",
    "            lines = f.readlines()\n",
    "        print(lines)\n",
    "    else:\n",
    "        print('That checkbook does not exist, but no worries I made it for you!')\n",
    "        with open('my_file.txt', 'w') as f:\n",
    "            f.write('current balance: 0')\n",
    "\n",
    "# Debit            \n",
    "            \n",
    "def debit_transaction():\n",
    "    print('Debit Transaction \\nPlease input a debit transaction Date (00/00/00), debit transaction Description, and debit transaction Dollar Amount (- 00.00)')\n",
    "    transaction = {\n",
    "        'date': input('date: '),\n",
    "        'description': input('description: '),\n",
    "        'dollar_amount': input('dollar amount: ')\n",
    "    }\n",
    "    another_transaction = input('Would you like to make a new debit transaction? (y/n)')\n",
    "    if another_transaction == 'y':\n",
    "        debit_transaction()\n",
    "    elif another_transaction == 'n':\n",
    "        menu()\n",
    "    else:\n",
    "        selection = input('That is not a valid option. Would you like to make a new debit transaction? Please select y or n.')\n",
    "        if selection == 'y':\n",
    "            credit_transaction()\n",
    "        elif selection == 'n':\n",
    "            menu()\n",
    "        else:\n",
    "            print('That is not a valid option. I am sending you to the main menu. Goodbye.')\n",
    "            menu()\n",
    "\n",
    "\n",
    "# Credit    \n",
    "\n",
    "def credit_transaction():\n",
    "    print('Credit Transaction \\nPlease input a credit transaction Date (00/00/00), credit transaction Description, and credit transaction Dollar Amount (00.00)')\n",
    "    transaction = {\n",
    "        'date': input('date: '),\n",
    "        'description': input('description: '),\n",
    "        'dollar_amount': input('dollar amount: ')\n",
    "    }\n",
    "    another_transaction = input('Would you like to make a new credit transaction? (y/n)')\n",
    "    if another_transaction == 'y':\n",
    "        credit_transaction()\n",
    "    elif another_transaction == 'n':\n",
    "        menu()\n",
    "    else:\n",
    "        selection = input('That is not a valid option. Would you like to make a new credit transaction? Please select y or n.')\n",
    "        if selection == 'y':\n",
    "            credit_transaction()\n",
    "        elif selection == 'n':\n",
    "            menu()\n",
    "        else:\n",
    "            print('That is not a valid option. I am sending you to the main menu. Goodbye.')\n",
    "            menu()\n",
    "\n",
    "        \n",
    "# Menu        \n",
    "        \n",
    "def menu():\n",
    "    print('Welcome to your checkbook! \\nMenu \\n1. View current balance','\\n2. Add a debit transaction','\\n3. Add a credit transaction','\\n4. Exit')\n",
    "    selection = input('Please make a selection: ')\n",
    "    if selection == '1':\n",
    "        current_balance()\n",
    "    elif selection == '2':\n",
    "        debit_transaction()\n",
    "    elif selection == '3':\n",
    "        credit_transaction()\n",
    "    elif selection == '4':\n",
    "        exit()\n",
    "    else:\n",
    "        selection = input('That is not a valid option. Please select a menu option from 1 - 4. \\nMenu \\n1. View current balance \\n2. Add a debit transaction \\n3. Add a credit transaction \\n4. Exit \\n')\n",
    "        if selection == '1':\n",
    "            current_balance()\n",
    "        elif selection == '2':\n",
    "            debit_transaction()\n",
    "        elif selection == '3':\n",
    "            credit_transaction()\n",
    "        elif selection == '4':\n",
    "            exit()\n",
    "        else:\n",
    "            print('That is not a valid option. Let\\'s start again.')\n",
    "            menu()"
   ]
  },
  {
   "cell_type": "code",
   "execution_count": null,
   "id": "6093156e",
   "metadata": {},
   "outputs": [
    {
     "name": "stdout",
     "output_type": "stream",
     "text": [
      "Welcome to your checkbook! \n",
      "Menu \n",
      "1. View current balance \n",
      "2. Add a debit transaction \n",
      "3. Add a credit transaction \n",
      "4. Exit\n"
     ]
    }
   ],
   "source": [
    "menu()"
   ]
  },
  {
   "cell_type": "code",
   "execution_count": null,
   "id": "9decce7e",
   "metadata": {},
   "outputs": [],
   "source": []
  }
 ],
 "metadata": {
  "kernelspec": {
   "display_name": "Python 3 (ipykernel)",
   "language": "python",
   "name": "python3"
  },
  "language_info": {
   "codemirror_mode": {
    "name": "ipython",
    "version": 3
   },
   "file_extension": ".py",
   "mimetype": "text/x-python",
   "name": "python",
   "nbconvert_exporter": "python",
   "pygments_lexer": "ipython3",
   "version": "3.9.13"
  }
 },
 "nbformat": 4,
 "nbformat_minor": 5
}
